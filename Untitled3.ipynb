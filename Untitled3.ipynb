{
 "cells": [
  {
   "cell_type": "code",
   "execution_count": 1,
   "id": "25a085e9",
   "metadata": {},
   "outputs": [],
   "source": [
    "import math"
   ]
  },
  {
   "cell_type": "code",
   "execution_count": 8,
   "id": "0c7423dc",
   "metadata": {},
   "outputs": [
    {
     "name": "stdout",
     "output_type": "stream",
     "text": [
      "a2\n",
      "b4\n",
      "c2\n"
     ]
    }
   ],
   "source": [
    "#Quadratic formula\n",
    "a=int(input('a'))\n",
    "b=int(input('b'))\n",
    "c=int(input('c'))"
   ]
  },
  {
   "cell_type": "code",
   "execution_count": 9,
   "id": "d4d01955",
   "metadata": {},
   "outputs": [
    {
     "name": "stdout",
     "output_type": "stream",
     "text": [
      "for equation:,x1, \"and\" x2\n",
      "x1 = -1.0\n",
      "x2 = -1.0\n"
     ]
    }
   ],
   "source": [
    "#Quadratic formula x=-b+math.sqrtb**2-4ac/2a\n",
    "x1=(-b+math.sqrt(b**2-4*a*c))/(2*a)\n",
    "x2=(-b-math.sqrt(b**2-4*a*c))/(2*a)\n",
    "print('for equation:,x1, \"and\" x2')\n",
    "print('x1 =',x1)\n",
    "print('x2 =',x2)"
   ]
  },
  {
   "cell_type": "markdown",
   "id": "38d4107f",
   "metadata": {},
   "source": [
    "x1=-b + math.sqrt b**2 - 4ac/2*a\n",
    "x2=-b - math.sqrt b**2 - 4ac/2*a"
   ]
  },
  {
   "cell_type": "markdown",
   "id": "e03bd927",
   "metadata": {},
   "source": []
  },
  {
   "cell_type": "code",
   "execution_count": null,
   "id": "00109abd",
   "metadata": {},
   "outputs": [],
   "source": []
  },
  {
   "cell_type": "code",
   "execution_count": null,
   "id": "bf39b8b5",
   "metadata": {},
   "outputs": [],
   "source": []
  },
  {
   "cell_type": "code",
   "execution_count": null,
   "id": "58af178c",
   "metadata": {},
   "outputs": [],
   "source": []
  },
  {
   "cell_type": "code",
   "execution_count": null,
   "id": "003a2209",
   "metadata": {},
   "outputs": [],
   "source": [
    "\n"
   ]
  }
 ],
 "metadata": {
  "kernelspec": {
   "display_name": "Python 3 (ipykernel)",
   "language": "python",
   "name": "python3"
  },
  "language_info": {
   "codemirror_mode": {
    "name": "ipython",
    "version": 3
   },
   "file_extension": ".py",
   "mimetype": "text/x-python",
   "name": "python",
   "nbconvert_exporter": "python",
   "pygments_lexer": "ipython3",
   "version": "3.11.4"
  }
 },
 "nbformat": 4,
 "nbformat_minor": 5
}
