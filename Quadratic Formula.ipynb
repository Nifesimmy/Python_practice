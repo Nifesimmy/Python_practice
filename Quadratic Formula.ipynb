{
 "cells": [
  {
   "cell_type": "code",
   "execution_count": 1,
   "id": "f209df22",
   "metadata": {},
   "outputs": [],
   "source": [
    "import math"
   ]
  },
  {
   "cell_type": "code",
   "execution_count": 2,
   "id": "515c49e6",
   "metadata": {},
   "outputs": [
    {
     "name": "stdout",
     "output_type": "stream",
     "text": [
      "a2\n",
      "b11\n",
      "c14\n"
     ]
    }
   ],
   "source": [
    "a=int(input('a'))\n",
    "b=int(input('b'))\n",
    "c=int(input('c'))"
   ]
  },
  {
   "cell_type": "markdown",
   "id": "1d4efefe",
   "metadata": {},
   "source": [
    "\n"
   ]
  },
  {
   "cell_type": "code",
   "execution_count": 3,
   "id": "bdac134d",
   "metadata": {},
   "outputs": [
    {
     "name": "stdout",
     "output_type": "stream",
     "text": [
      "for equation x1, \"and\" equation x2\n",
      "for x1 = -2.0\n",
      "for x2 = -3.5\n"
     ]
    }
   ],
   "source": [
    "#Quadratic Formular x = (-b+math.sqrt(b**2 - 4*a*c))/2*a\n",
    "x1 = (-b + math.sqrt(b**2-4*a*c))/(2*a)\n",
    "x2 = (-b - math.sqrt(b**2-4*a*c))/(2*a)\n",
    "print('for equation x1, \"and\" equation x2')\n",
    "print('for x1 =', x1)\n",
    "print('for x2 =', x2)"
   ]
  },
  {
   "cell_type": "code",
   "execution_count": null,
   "id": "64fcfe82",
   "metadata": {},
   "outputs": [],
   "source": []
  }
 ],
 "metadata": {
  "kernelspec": {
   "display_name": "Python 3 (ipykernel)",
   "language": "python",
   "name": "python3"
  },
  "language_info": {
   "codemirror_mode": {
    "name": "ipython",
    "version": 3
   },
   "file_extension": ".py",
   "mimetype": "text/x-python",
   "name": "python",
   "nbconvert_exporter": "python",
   "pygments_lexer": "ipython3",
   "version": "3.11.4"
  }
 },
 "nbformat": 4,
 "nbformat_minor": 5
}
