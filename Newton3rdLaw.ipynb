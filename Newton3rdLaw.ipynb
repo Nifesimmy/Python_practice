{
 "cells": [
  {
   "cell_type": "code",
   "execution_count": 7,
   "id": "bc1a4231",
   "metadata": {},
   "outputs": [],
   "source": [
    "#i assigned values to the Newton3RDLaw\n",
    "u =5\n",
    "a=11\n",
    "s=14"
   ]
  },
  {
   "cell_type": "code",
   "execution_count": 8,
   "id": "1f183570",
   "metadata": {},
   "outputs": [],
   "source": [
    "velocity=(u**2+2*a*s)"
   ]
  },
  {
   "cell_type": "code",
   "execution_count": 9,
   "id": "52d463a5",
   "metadata": {},
   "outputs": [
    {
     "name": "stdout",
     "output_type": "stream",
     "text": [
      "333\n"
     ]
    }
   ],
   "source": [
    "print(velocity)"
   ]
  },
  {
   "cell_type": "code",
   "execution_count": 4,
   "id": "4311b614",
   "metadata": {},
   "outputs": [],
   "source": [
    "import math"
   ]
  },
  {
   "cell_type": "code",
   "execution_count": 10,
   "id": "2485bb40",
   "metadata": {},
   "outputs": [
    {
     "name": "stdout",
     "output_type": "stream",
     "text": [
      "18.24828759089466\n"
     ]
    }
   ],
   "source": [
    "velocity=math.sqrt(velocity)\n",
    "print(velocity)"
   ]
  },
  {
   "cell_type": "code",
   "execution_count": null,
   "id": "7cfbfef3",
   "metadata": {},
   "outputs": [],
   "source": []
  }
 ],
 "metadata": {
  "kernelspec": {
   "display_name": "Python 3 (ipykernel)",
   "language": "python",
   "name": "python3"
  },
  "language_info": {
   "codemirror_mode": {
    "name": "ipython",
    "version": 3
   },
   "file_extension": ".py",
   "mimetype": "text/x-python",
   "name": "python",
   "nbconvert_exporter": "python",
   "pygments_lexer": "ipython3",
   "version": "3.11.4"
  }
 },
 "nbformat": 4,
 "nbformat_minor": 5
}
